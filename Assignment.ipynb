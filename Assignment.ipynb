{
  "nbformat": 4,
  "nbformat_minor": 0,
  "metadata": {
    "colab": {
      "provenance": []
    },
    "kernelspec": {
      "name": "python3",
      "display_name": "Python 3"
    },
    "language_info": {
      "name": "python"
    }
  },
  "cells": [
    {
      "cell_type": "markdown",
      "source": [
        "2. Given an unsorted array of integers, find the length of the longest continuous increasing subsequence (subarray)."
      ],
      "metadata": {
        "id": "Y-XbXXg_PhCk"
      }
    },
    {
      "cell_type": "code",
      "source": [
        "def find_length_of_lcis(nums):\n",
        "    if not nums:\n",
        "        return 0\n",
        "\n",
        "    max_length = 1\n",
        "    current_length = 1\n",
        "\n",
        "    for i in range(1, len(nums)):\n",
        "        if nums[i] > nums[i - 1]:\n",
        "            current_length += 1\n",
        "            max_length = max(max_length, current_length)\n",
        "        else:\n",
        "            current_length = 1\n",
        "\n",
        "    return max_length\n",
        "\n",
        "# Test cases\n",
        "print(find_length_of_lcis([1, 3, 5, 4, 7]))  # Output: 3\n",
        "print(find_length_of_lcis([2, 2, 2, 2, 2]))  # Output: 1\n"
      ],
      "metadata": {
        "colab": {
          "base_uri": "https://localhost:8080/"
        },
        "id": "GZkdVIrsPZb2",
        "outputId": "a13446d7-8b30-4720-c0b0-a83edd0fcbc5"
      },
      "execution_count": 15,
      "outputs": [
        {
          "output_type": "stream",
          "name": "stdout",
          "text": [
            "3\n",
            "1\n"
          ]
        }
      ]
    },
    {
      "cell_type": "markdown",
      "source": [
        "3. Given a list of non negative integers, arrange them such that they form the largest number."
      ],
      "metadata": {
        "id": "iZTtROMPPEz8"
      }
    },
    {
      "cell_type": "code",
      "source": [
        "def largest_number(nums):\n",
        "    # Convert integers to strings for comparison\n",
        "    nums = [str(num) for num in nums]\n",
        "\n",
        "    # Define custom comparison function\n",
        "    def compare(x, y):\n",
        "        return int(y + x) - int(x + y)\n",
        "\n",
        "    # Sort numbers using custom comparison\n",
        "    nums.sort(key=lambda x: compare(x, '0'))\n",
        "\n",
        "    # Handle case where all numbers are 0\n",
        "    if nums[0] == '0':\n",
        "        return '0'\n",
        "\n",
        "    return ''.join(nums)\n",
        "\n",
        "# Test cases\n",
        "print(largest_number([10, 2]))  # Output: \"210\"\n",
        "print(largest_number([3, 30, 34, 5, 9]))  # Output: \"9534330\"\n"
      ],
      "metadata": {
        "colab": {
          "base_uri": "https://localhost:8080/"
        },
        "id": "OLTeocOxO3VZ",
        "outputId": "9d147d46-29dd-446e-bdc9-e8fdf24f96ae"
      },
      "execution_count": 13,
      "outputs": [
        {
          "output_type": "stream",
          "name": "stdout",
          "text": [
            "102\n",
            "3430953\n"
          ]
        }
      ]
    },
    {
      "cell_type": "markdown",
      "source": [
        "4. Store all the \"servlet-name\", and \"servlet-class\" to a csv file from the attached sample_json.json file using Python"
      ],
      "metadata": {
        "id": "RgBzGU2aQTN9"
      }
    },
    {
      "cell_type": "code",
      "source": [
        "# Importing Json and csv to jupyter notebook\n",
        "\n",
        "import json\n",
        "import csv"
      ],
      "metadata": {
        "id": "chBA6reIQUDx"
      },
      "execution_count": 16,
      "outputs": []
    },
    {
      "cell_type": "code",
      "source": [
        "# Load JSON data from file\n",
        "\n",
        "with open('/content/DT A1 sample_json (1) (1).json', 'r') as json_file:\n",
        "    data = json.load(json_file)"
      ],
      "metadata": {
        "id": "FhAQqDg_NLmg"
      },
      "execution_count": 2,
      "outputs": []
    },
    {
      "cell_type": "code",
      "source": [
        "# Extract \"servlet-name\" and \"servlet-class\" from JSON data\n",
        "servlets = data['web-app']['servlet']"
      ],
      "metadata": {
        "id": "n9dBMQS4Nd3T"
      },
      "execution_count": 3,
      "outputs": []
    },
    {
      "cell_type": "code",
      "source": [
        "# Write extracted data to CSV file\n",
        "with open('servlet_data.csv', 'w', newline='') as csv_file:\n",
        "    writer = csv.writer(csv_file)\n",
        "\n",
        "    # Write header row\n",
        "    writer.writerow(['servlet-name', 'servlet-class'])\n",
        "\n",
        "    # Write data rows\n",
        "    for servlet in servlets:\n",
        "        writer.writerow([servlet['servlet-name'], servlet['servlet-class']])\n",
        "\n",
        "print(\"Data has been successfully written to servlet_data.csv\")"
      ],
      "metadata": {
        "colab": {
          "base_uri": "https://localhost:8080/"
        },
        "id": "kLpm46kQOJsE",
        "outputId": "98b809ef-1f20-442e-d243-bbf3c7a8239a"
      },
      "execution_count": 11,
      "outputs": [
        {
          "output_type": "stream",
          "name": "stdout",
          "text": [
            "Data has been successfully written to servlet_data.csv\n"
          ]
        }
      ]
    }
  ]
}